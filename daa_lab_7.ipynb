{
 "cells": [
  {
   "cell_type": "code",
   "execution_count": 1,
   "id": "df2779bd-819f-4c1a-ac38-1c7ba0858686",
   "metadata": {},
   "outputs": [
    {
     "name": "stdout",
     "output_type": "stream",
     "text": [
      "6 not found\n",
      "60 found\n"
     ]
    }
   ],
   "source": [
    "#bst search\n",
    "\n",
    "class Node:\n",
    "\tdef __init__(self, key):\n",
    "\t\tself.key = key\n",
    "\t\tself.left = None\n",
    "\t\tself.right = None\n",
    "        \n",
    "def insert(node, key):\n",
    "\tif node is None:\n",
    "\t\treturn Node(key)\n",
    "\tif key < node.key:\n",
    "\t\tnode.left = insert(node.left, key)\n",
    "\telif key > node.key:\n",
    "\t\tnode.right = insert(node.right, key)\n",
    "\treturn node\n",
    "\n",
    "def search(root, key):\n",
    "\tif root is None or root.key == key:\n",
    "\t\treturn root\n",
    "\tif root.key < key:\n",
    "\t\treturn search(root.right, key)\n",
    "\treturn search(root.left, key)\n",
    "\n",
    "if __name__ == '__main__':\n",
    "\troot = None\n",
    "\troot = insert(root, 50)\n",
    "\tinsert(root, 30)\n",
    "\tinsert(root, 20)\n",
    "\tinsert(root, 40)\n",
    "\tinsert(root, 70)\n",
    "\tinsert(root, 60)\n",
    "\tinsert(root, 80)\n",
    "\n",
    "\tkey = 6\n",
    "\n",
    "\tif search(root, key) is None:\n",
    "\t\tprint(key, \"not found\")\n",
    "\telse:\n",
    "\t\tprint(key, \"found\")\n",
    "\n",
    "\tkey = 60\n",
    "\n",
    "\tif search(root, key) is None:\n",
    "\t\tprint(key, \"not found\")\n",
    "\telse:\n",
    "\t\tprint(key, \"found\")"
   ]
  },
  {
   "cell_type": "code",
   "execution_count": 2,
   "id": "18484c0b-f041-4927-9288-aa17b61eaa1d",
   "metadata": {},
   "outputs": [
    {
     "name": "stdout",
     "output_type": "stream",
     "text": [
      "24\n"
     ]
    }
   ],
   "source": [
    "#leaf node sum\n",
    "\n",
    "class Node:\n",
    "\tdef __init__(self, data):\t\t\t \n",
    "\t\tself.data = data\n",
    "\t\tself.left = None\n",
    "\t\tself.right = None\n",
    "\n",
    "def leafSum(root):\n",
    "\tglobal total\n",
    "\tif root is None:\n",
    "\t\treturn\n",
    "\tif (root.left is None and root.right is None):\n",
    "\t\ttotal += root.data\n",
    "\tleafSum(root.left)\n",
    "\tleafSum(root.right)\n",
    "\n",
    "if __name__=='__main__':\n",
    "\troot = Node(1)\n",
    "\troot.left = Node(2)\n",
    "\troot.left.left = Node(4)\n",
    "\troot.left.right = Node(5)\n",
    "\troot.right = Node(3)\n",
    "\troot.right.right = Node(7)\n",
    "\troot.right.left = Node(6)\n",
    "\troot.right.left.right = Node(8)\n",
    "\ttotal = 0\n",
    "\tleafSum(root)\n",
    "\tprint(total)"
   ]
  },
  {
   "cell_type": "code",
   "execution_count": 3,
   "id": "c183b810-9478-4abd-9692-71163d4b1aee",
   "metadata": {},
   "outputs": [
    {
     "name": "stdout",
     "output_type": "stream",
     "text": [
      "1 3 2 7 6 5 4 "
     ]
    }
   ],
   "source": [
    "#spinal order traversal \n",
    "\n",
    "class Node:\n",
    "\tdef __init__(self, data):\n",
    "\t\tself.data = data\n",
    "\t\tself.left = self.right = None\n",
    "\n",
    "def zigzagtraversal(root):\n",
    "\tif root is None:\n",
    "\t\treturn\n",
    "\tcurrentLevel = []\n",
    "\tnextLevel = []\n",
    "\tltr = True\n",
    "\tcurrentLevel.append(root)\n",
    "\twhile len(currentLevel) > 0:\n",
    "\t\ttemp = currentLevel.pop(-1)\n",
    "\t\tprint(temp.data, end=\" \")\n",
    "\n",
    "\t\tif ltr:\n",
    "\t\t\tif temp.left:\n",
    "\t\t\t\tnextLevel.append(temp.left)\n",
    "\t\t\tif temp.right:\n",
    "\t\t\t\tnextLevel.append(temp.right)\n",
    "\t\telse:\n",
    "\t\t\tif temp.right:\n",
    "\t\t\t\tnextLevel.append(temp.right)\n",
    "\t\t\tif temp.left:\n",
    "\t\t\t\tnextLevel.append(temp.left)\n",
    "\n",
    "\t\tif len(currentLevel) == 0:\n",
    "\t\t\tltr = not ltr\n",
    "\t\t\tcurrentLevel, nextLevel = nextLevel, currentLevel\n",
    "\n",
    "\n",
    "root = Node(1)\n",
    "root.left = Node(2)\n",
    "root.right = Node(3)\n",
    "root.left.left = Node(7)\n",
    "root.left.right = Node(6)\n",
    "root.right.left = Node(5)\n",
    "root.right.right = Node(4)\n",
    "zigzagtraversal(root)"
   ]
  }
 ],
 "metadata": {
  "kernelspec": {
   "display_name": "Python 3 (ipykernel)",
   "language": "python",
   "name": "python3"
  },
  "language_info": {
   "codemirror_mode": {
    "name": "ipython",
    "version": 3
   },
   "file_extension": ".py",
   "mimetype": "text/x-python",
   "name": "python",
   "nbconvert_exporter": "python",
   "pygments_lexer": "ipython3",
   "version": "3.11.0"
  }
 },
 "nbformat": 4,
 "nbformat_minor": 5
}
