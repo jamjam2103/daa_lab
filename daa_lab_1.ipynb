{
 "cells": [
  {
   "cell_type": "code",
   "execution_count": 1,
   "id": "9037bc01-c98c-4123-95c8-ae11d761f6c6",
   "metadata": {},
   "outputs": [
    {
     "name": "stdout",
     "output_type": "stream",
     "text": [
      "17\n",
      "5\n",
      "2\n"
     ]
    }
   ],
   "source": [
    "#leader of the array\n",
    "A = [16, 17, 4, 3, 5, 2]\n",
    "for i in range(0, len(A)):\n",
    "    for j in range(i, len(A)):\n",
    "        if (A[i]<A[j]):\n",
    "            break\n",
    "        if j == len(A)-1:\n",
    "            print(A[i])"
   ]
  },
  {
   "cell_type": "code",
   "execution_count": 2,
   "id": "9abf1bb8-c251-4418-8985-ab9459fc4925",
   "metadata": {},
   "outputs": [
    {
     "name": "stdout",
     "output_type": "stream",
     "text": [
      "2\n",
      "5\n",
      "17\n"
     ]
    }
   ],
   "source": [
    "#leader of array with time complexity O(n)\n",
    "A = [16, 17, 4, 3, 5, 2]\n",
    "temp = A[len(A)-1]\n",
    "print(temp)\n",
    "for i in range(len(A)-1, -1, -1):\n",
    "    if A[i] > temp:\n",
    "        temp = A[i]\n",
    "        print(temp)"
   ]
  },
  {
   "cell_type": "code",
   "execution_count": 3,
   "id": "e960f430-55d2-4212-8db3-a49d290cf873",
   "metadata": {},
   "outputs": [
    {
     "name": "stdout",
     "output_type": "stream",
     "text": [
      "[1, 8, 2, 7, 3, 6, 4]\n"
     ]
    }
   ],
   "source": [
    "#alternate sorting\n",
    "\n",
    "A = [4, 3, 7, 8, 6, 2, 1]\n",
    "A.sort()\n",
    "temp = []\n",
    "for i in range(0, len(A)-1):\n",
    "    if len(A)%2==0:\n",
    "        if i == ((len(A)/2)):\n",
    "            break\n",
    "    else:\n",
    "        if i == ((len(A)+1)/2)-1:\n",
    "            temp.append(A[i])\n",
    "            break\n",
    "    temp.append(A[i])\n",
    "    temp.append(A[len(A)-i-1])\n",
    "print(temp)"
   ]
  }
 ],
 "metadata": {
  "kernelspec": {
   "display_name": "Python 3 (ipykernel)",
   "language": "python",
   "name": "python3"
  },
  "language_info": {
   "codemirror_mode": {
    "name": "ipython",
    "version": 3
   },
   "file_extension": ".py",
   "mimetype": "text/x-python",
   "name": "python",
   "nbconvert_exporter": "python",
   "pygments_lexer": "ipython3",
   "version": "3.11.0"
  }
 },
 "nbformat": 4,
 "nbformat_minor": 5
}
