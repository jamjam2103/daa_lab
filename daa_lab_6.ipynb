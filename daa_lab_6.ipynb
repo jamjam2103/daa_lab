{
 "cells": [
  {
   "cell_type": "code",
   "execution_count": 1,
   "id": "48ad601f-cb01-45ba-b2f7-a7cbdabf3c86",
   "metadata": {},
   "outputs": [
    {
     "name": "stdout",
     "output_type": "stream",
     "text": [
      "-36\n"
     ]
    }
   ],
   "source": [
    "#multiply without operator\n",
    "\n",
    "def mul(a, b):       \n",
    "    sum = 0\n",
    "    x = abs(a)\n",
    "    y = abs(b)\n",
    "    if x>=y:\n",
    "        if y == 0:\n",
    "            return 0\n",
    "        return x + mul(x, y-1)     \n",
    "    else:\n",
    "        if x == 0:\n",
    "            return 0\n",
    "        return y + mul(y, x-1)      \n",
    "    res = str(sum)\n",
    "    result = sign + res\n",
    "    return result\n",
    "    \n",
    "a = -12\n",
    "b = 3\n",
    "add = str(mul(a, b))\n",
    "\n",
    "if (a>=0 and b>=0) or (a<=0 and b<=0):\n",
    "    sign = ''\n",
    "elif a<=0 or b<=0:\n",
    "    sign  = '-'\n",
    "\n",
    "print(sign+add)"
   ]
  },
  {
   "cell_type": "code",
   "execution_count": 2,
   "id": "5dbd7d1f-d769-4f07-bf04-2074243660e5",
   "metadata": {},
   "outputs": [
    {
     "data": {
      "text/plain": [
       "[[0, 2, 0], [4, 0, 6], [0, 7, 0]]"
      ]
     },
     "execution_count": 2,
     "metadata": {},
     "output_type": "execute_result"
    }
   ],
   "source": [
    "mat2 = [[1, 7, 2],\n",
    "           [6, 4, 9],\n",
    "           [3, 7, 5]]\n",
    "\n",
    "temp = []\n",
    "\n",
    "def sortMatrix(mat):\n",
    "    n = len(mat)\n",
    "    for i in range(n):\n",
    "        for j in range(n):\n",
    "            temp.append(mat[i][j])\n",
    "            temp.sort()\n",
    "    k = 0\n",
    "    for i in range(n):\n",
    "        for j in range(n):\n",
    "            mat[i][j] = temp[k]\n",
    "            k+=1\n",
    "    return mat\n",
    "\n",
    "def swapDiag(mat):\n",
    "    n = len(mat)\n",
    "    for j in range(n//2):\n",
    "        for i in range(n):\n",
    "            mat[i][j], mat[i][n - 1 - j] = 0, 0\n",
    "            j+=1\n",
    "    return mat\n",
    "\n",
    "sortMatrix(mat2)\n",
    "swapDiag(mat2)"
   ]
  }
 ],
 "metadata": {
  "kernelspec": {
   "display_name": "Python 3 (ipykernel)",
   "language": "python",
   "name": "python3"
  },
  "language_info": {
   "codemirror_mode": {
    "name": "ipython",
    "version": 3
   },
   "file_extension": ".py",
   "mimetype": "text/x-python",
   "name": "python",
   "nbconvert_exporter": "python",
   "pygments_lexer": "ipython3",
   "version": "3.11.0"
  }
 },
 "nbformat": 4,
 "nbformat_minor": 5
}
