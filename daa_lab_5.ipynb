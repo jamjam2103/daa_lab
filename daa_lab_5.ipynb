{
 "cells": [
  {
   "cell_type": "code",
   "execution_count": 1,
   "id": "cdf7013a-44f7-4d16-8076-8171c5a33f84",
   "metadata": {},
   "outputs": [
    {
     "name": "stdout",
     "output_type": "stream",
     "text": [
      "[2]\n"
     ]
    }
   ],
   "source": [
    "#row with maximum 1s\n",
    "\n",
    "def maxOnes(matrix):\n",
    "    max_count = 0\n",
    "    max_rows = []\n",
    "\n",
    "    for i in range(len(matrix)):\n",
    "        count = matrix[i].count(1)\n",
    "\n",
    "        if count > max_count:\n",
    "            max_count = count\n",
    "            max_rows = [i]\n",
    "        elif count == max_count:\n",
    "            max_rows.append(i)\n",
    "\n",
    "    print(max_rows)\n",
    "\n",
    "matrix = [\n",
    "    [1, 0, 1, 1],\n",
    "    [0, 1, 1, 0],\n",
    "    [1, 1, 1, 1],\n",
    "    [0, 0, 1, 1]\n",
    "]\n",
    "maxOnes(matrix)"
   ]
  },
  {
   "cell_type": "code",
   "execution_count": 2,
   "id": "75b69ee6-4386-4be3-92fe-1a84b128e4e5",
   "metadata": {},
   "outputs": [
    {
     "name": "stdout",
     "output_type": "stream",
     "text": [
      "15 15\n"
     ]
    }
   ],
   "source": [
    "#Middle Row and Column Sum\n",
    "\n",
    "def middleSum(matrix):\n",
    "    n = len(matrix)\n",
    "    middle = n // 2\n",
    "\n",
    "    row_sum = sum(matrix[middle])\n",
    "\n",
    "    col_sum = sum(matrix[i][middle] for i in range(n))\n",
    "\n",
    "    print(row_sum, col_sum)\n",
    "\n",
    "matrix = [\n",
    "    [1, 2, 3],\n",
    "    [4, 5, 6],\n",
    "    [7, 8, 9]\n",
    "]\n",
    "middleSum(matrix)"
   ]
  }
 ],
 "metadata": {
  "kernelspec": {
   "display_name": "Python 3 (ipykernel)",
   "language": "python",
   "name": "python3"
  },
  "language_info": {
   "codemirror_mode": {
    "name": "ipython",
    "version": 3
   },
   "file_extension": ".py",
   "mimetype": "text/x-python",
   "name": "python",
   "nbconvert_exporter": "python",
   "pygments_lexer": "ipython3",
   "version": "3.11.0"
  }
 },
 "nbformat": 4,
 "nbformat_minor": 5
}
