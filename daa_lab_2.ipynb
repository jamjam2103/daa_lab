{
 "cells": [
  {
   "cell_type": "code",
   "execution_count": 1,
   "id": "c6d39f12-4c3b-4e10-8e38-de68f4f8559b",
   "metadata": {},
   "outputs": [
    {
     "name": "stdout",
     "output_type": "stream",
     "text": [
      "[1, 3, 5]\n",
      "[2, 3, 4]\n"
     ]
    }
   ],
   "source": [
    "#triplet sum\n",
    "a = [1, 2, 3, 4, 5]\n",
    "sum = 9\n",
    "x = []\n",
    "for i in range(len(a)):\n",
    "    for j in range(i+1, len(a)):\n",
    "        arr = []\n",
    "        if (a[i] + a[j])>=9:\n",
    "            break\n",
    "        n = sum - (a[i] + a[j])\n",
    "        if n in a and a[i] != a[j] and a[j] != n and a[i] != n:\n",
    "            arr.append(a[i])\n",
    "            arr.append(a[j])\n",
    "            arr.append(n)\n",
    "            arr.sort()\n",
    "            if arr not in x:\n",
    "                x.append(arr)\n",
    "                print(arr)"
   ]
  },
  {
   "cell_type": "code",
   "execution_count": 2,
   "id": "1512b3eb-498e-4f81-8948-e0ce3143b008",
   "metadata": {},
   "outputs": [
    {
     "name": "stdout",
     "output_type": "stream",
     "text": [
      "0\n",
      "0\n",
      "0\n",
      "1\n",
      "1\n",
      "1\n",
      "2\n",
      "2\n",
      "2\n"
     ]
    }
   ],
   "source": [
    "#Sorting an Array\n",
    "\n",
    "def insertionSort(arr):\n",
    "\n",
    "\tfor i in range(1, len(arr)):\n",
    "\t\tkey = arr[i]\n",
    "\t\tj = i-1\n",
    "\t\twhile j >= 0 and key < arr[j] :\n",
    "\t\t\t\tarr[j + 1] = arr[j]\n",
    "\t\t\t\tj -= 1\n",
    "\t\tarr[j + 1] = key\n",
    "\n",
    "arr = [0, 0, 1, 2, 0, 1, 2, 2, 1]\n",
    "insertionSort(arr)\n",
    "for i in range(len(arr)):\n",
    "\tprint (arr[i])"
   ]
  }
 ],
 "metadata": {
  "kernelspec": {
   "display_name": "Python 3 (ipykernel)",
   "language": "python",
   "name": "python3"
  },
  "language_info": {
   "codemirror_mode": {
    "name": "ipython",
    "version": 3
   },
   "file_extension": ".py",
   "mimetype": "text/x-python",
   "name": "python",
   "nbconvert_exporter": "python",
   "pygments_lexer": "ipython3",
   "version": "3.11.0"
  }
 },
 "nbformat": 4,
 "nbformat_minor": 5
}
