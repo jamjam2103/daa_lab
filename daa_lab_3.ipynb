{
 "cells": [
  {
   "cell_type": "code",
   "execution_count": 2,
   "id": "d35c4e96-b29c-43f3-9008-27412550db2b",
   "metadata": {},
   "outputs": [
    {
     "name": "stdout",
     "output_type": "stream",
     "text": [
      "[1, 2, 3, 5, 8, 9]\n"
     ]
    }
   ],
   "source": [
    "#remove duplicate\n",
    "\n",
    "test = [1, 2, 3, 2, 5, 8, 3, 5, 9]\n",
    "\n",
    "unique = []\n",
    "\n",
    "for i in test:\n",
    "    if i not in unique:\n",
    "        unique.append(i)\n",
    "\n",
    "print(unique)"
   ]
  },
  {
   "cell_type": "code",
   "execution_count": 1,
   "id": "3b7d6ead-2371-4829-822d-d852b6b0e75a",
   "metadata": {},
   "outputs": [
    {
     "data": {
      "text/plain": [
       "'loop'"
      ]
     },
     "execution_count": 1,
     "metadata": {},
     "output_type": "execute_result"
    }
   ],
   "source": [
    "#find loop\n",
    "\n",
    "class Node:\n",
    "    def __init__(self, k):\n",
    "        self.key = k\n",
    "        self.next = None\n",
    "\n",
    "class LinkedList:\n",
    "    def __init__(self):\n",
    "        self.head = None\n",
    "        \n",
    "    def push(self, data):\n",
    "        new = Node(data)\n",
    "        new.next = self.head\n",
    "        self.head = new\n",
    "        \n",
    "    def printll(self):\n",
    "        temp = self.head\n",
    "        while(temp):\n",
    "            print(temp.data),\n",
    "            temp = temp.next\n",
    "            \n",
    "    def isLoop(self):\n",
    "        i = self.head\n",
    "        j = self.head\n",
    "        while i and j and j.next:\n",
    "            i = i.next\n",
    "            j = j.next.next\n",
    "            if i == j:\n",
    "                return 'loop'\n",
    "\n",
    "temp = LinkedList()\n",
    "temp.push(10)\n",
    "temp.push(20)\n",
    "temp.push(30)\n",
    "temp.push(40)\n",
    "\n",
    "temp.head.next.next.next = temp.head.next\n",
    "\n",
    "temp.isLoop()"
   ]
  },
  {
   "cell_type": "code",
   "execution_count": 7,
   "id": "71ee97a3-e43d-4a26-adbe-b396aa07e1fc",
   "metadata": {},
   "outputs": [
    {
     "name": "stdout",
     "output_type": "stream",
     "text": [
      "5 6 7 11 12 13 "
     ]
    }
   ],
   "source": [
    "#time complexity O(n*log(n)) in merge sort\n",
    "\n",
    "def merge(arr, l, m, r):\n",
    "\tn1 = m - l + 1\n",
    "\tn2 = r - m\n",
    "\tL = [0] * (n1)\n",
    "\tR = [0] * (n2)\n",
    "\tfor i in range(0, n1):\n",
    "\t\tL[i] = arr[l + i]\n",
    "\n",
    "\tfor j in range(0, n2):\n",
    "\t\tR[j] = arr[m + 1 + j]\n",
    "\ti = 0\t\n",
    "\tj = 0\t\n",
    "\tk = l\t\n",
    "\twhile i < n1 and j < n2:\n",
    "\t\tif L[i] <= R[j]:\n",
    "\t\t\tarr[k] = L[i]\n",
    "\t\t\ti += 1\n",
    "\t\telse:\n",
    "\t\t\tarr[k] = R[j]\n",
    "\t\t\tj += 1\n",
    "\t\tk += 1\n",
    "\twhile i < n1:\n",
    "\t\tarr[k] = L[i]\n",
    "\t\ti += 1\n",
    "\t\tk += 1\n",
    "\twhile j < n2:\n",
    "\t\tarr[k] = R[j]\n",
    "\t\tj += 1\n",
    "\t\tk += 1\n",
    "def mergeSort(arr, l, r):\n",
    "\tif l < r:\n",
    "\t\tm = l+(r-l)//2\n",
    "\t\tmergeSort(arr, l, m)\n",
    "\t\tmergeSort(arr, m+1, r)\n",
    "\t\tmerge(arr, l, m, r)\n",
    "\n",
    "arr = [12, 11, 13, 5, 6, 7]\n",
    "n = len(arr)\n",
    "mergeSort(arr, 0, n-1)\n",
    "for i in range(n):\n",
    "\tprint(arr[i],end=\" \")"
   ]
  },
  {
   "cell_type": "code",
   "execution_count": 8,
   "id": "63ae461e-835d-4f40-b740-e76bbc33dcb5",
   "metadata": {},
   "outputs": [
    {
     "name": "stdout",
     "output_type": "stream",
     "text": [
      "12\n"
     ]
    }
   ],
   "source": [
    "#max sum\n",
    "\n",
    "def maxSum(arr):\n",
    "    max_sum = float('-inf')\n",
    "    current_sum = 0\n",
    "\n",
    "    for num in arr:\n",
    "        current_sum = max(num, current_sum + num)\n",
    "        max_sum = max(max_sum, current_sum)\n",
    "\n",
    "    return max_sum\n",
    "\n",
    "input_array = [1, -2, 3, -1, 2, 4, -2, 6, -1]\n",
    "result = maxSum(input_array)\n",
    "print(result)"
   ]
  }
 ],
 "metadata": {
  "kernelspec": {
   "display_name": "Python 3 (ipykernel)",
   "language": "python",
   "name": "python3"
  },
  "language_info": {
   "codemirror_mode": {
    "name": "ipython",
    "version": 3
   },
   "file_extension": ".py",
   "mimetype": "text/x-python",
   "name": "python",
   "nbconvert_exporter": "python",
   "pygments_lexer": "ipython3",
   "version": "3.11.0"
  }
 },
 "nbformat": 4,
 "nbformat_minor": 5
}
