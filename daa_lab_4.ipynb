{
 "cells": [
  {
   "cell_type": "code",
   "execution_count": 1,
   "id": "8746be2d-315c-48fa-90e3-6987c4c34281",
   "metadata": {},
   "outputs": [
    {
     "data": {
      "text/plain": [
       "[[2, 1, 0], [3, 4, 5], [8, 7, 6]]"
      ]
     },
     "execution_count": 1,
     "metadata": {},
     "output_type": "execute_result"
    }
   ],
   "source": [
    "#swap diagonal\n",
    "\n",
    "matrix2 = [[0, 1, 2],\n",
    "           [3, 4, 5],\n",
    "           [6, 7, 8]]\n",
    "\n",
    "def swapDiag(mat):\n",
    "    n = len(mat)\n",
    "    for j in range(n//2):\n",
    "        for i in range(n):\n",
    "            mat[i][j], mat[i][n - 1 - j] = mat[i][n - 1 - j], mat[i][j]\n",
    "            j+=1\n",
    "    return mat\n",
    "swapDiag(matrix2)"
   ]
  },
  {
   "cell_type": "code",
   "execution_count": 2,
   "id": "c2f7e61a-1f28-45c9-b1d0-fd8711f604bc",
   "metadata": {},
   "outputs": [
    {
     "name": "stdout",
     "output_type": "stream",
     "text": [
      "1\n",
      "5\n",
      "7\n"
     ]
    }
   ],
   "source": [
    "#index\n",
    "\n",
    "arr = [1,6,3,4,5,6,7,6,9]\n",
    "\n",
    "def findIndex(n, arr):\n",
    "    for i in range(len(arr)):\n",
    "        if n == arr[i]:\n",
    "            print(i)\n",
    "\n",
    "findIndex(6, arr)"
   ]
  }
 ],
 "metadata": {
  "kernelspec": {
   "display_name": "Python 3 (ipykernel)",
   "language": "python",
   "name": "python3"
  },
  "language_info": {
   "codemirror_mode": {
    "name": "ipython",
    "version": 3
   },
   "file_extension": ".py",
   "mimetype": "text/x-python",
   "name": "python",
   "nbconvert_exporter": "python",
   "pygments_lexer": "ipython3",
   "version": "3.11.0"
  }
 },
 "nbformat": 4,
 "nbformat_minor": 5
}
